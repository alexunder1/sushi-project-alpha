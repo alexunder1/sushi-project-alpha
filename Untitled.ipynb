{
 "cells": [
  {
   "cell_type": "code",
   "execution_count": 1,
   "metadata": {
    "collapsed": false
   },
   "outputs": [],
   "source": [
    "from flask import Flask, render_template, url_for, redirect, session, request\n",
    "from json import loads, dumps\n",
    "app = Flask(__name__)\n",
    "app.secret_key = \"sfeafegfaeuigga3\"\n",
    "\n"
   ]
  },
  {
   "cell_type": "code",
   "execution_count": 2,
   "metadata": {
    "collapsed": false
   },
   "outputs": [],
   "source": [
    "rolls = [{\"name\":\"Philad\", \"price\":300, \"desc\":\"Hyevo\", \"tags\":[\"holodnie\"], \"image\":\"image2.png\" }, {\"name\":\"Califor\", \"price\":400, \"desc\":\"klass\", \"tags\":[\"holodnie\"], \"image\":\"image14.png\" } ]\n",
    "def get_rolls():\n",
    "    with open(\"basa.txt\", \"r\") as f:\n",
    "        s = f.read()\n",
    "    dic = loads(s)\n",
    "    return dic[\"rolls\"]"
   ]
  },
  {
   "cell_type": "code",
   "execution_count": 3,
   "metadata": {
    "collapsed": true
   },
   "outputs": [],
   "source": [
    "def renew_rolls(li):\n",
    "    dic = {\"rolls\":li}\n",
    "    with open(\"basa.txt\", \"w\") as f:\n",
    "        f.write(dumps(dic))"
   ]
  },
  {
   "cell_type": "code",
   "execution_count": 4,
   "metadata": {
    "collapsed": false
   },
   "outputs": [
    {
     "name": "stdout",
     "output_type": "stream",
     "text": [
      "[{u'price': 300, u'tags': [u'holodnie'], u'name': u'Philad', u'image': u'image2.png', u'desc': u'Hyevo'}, {u'price': 400, u'tags': [u'holodnie'], u'name': u'Califor', u'image': u'image14.png', u'desc': u'klass'}, {u'price': u'qwefq3rfqwf', u'name': u'oajsndoqnw', u'image': u'0.jpg', u'desc': u' \\u041e\\u043f\\u0438\\u0441\\u0430\\u043d\\u0438\\u0435qwef13f13fg\\r\\n\\t\\t\\t\\r\\n\\t\\t'}, {u'price': u'werwefwef', u'desc': u'\\twefwefwefwefw\\t\\t\\r\\n\\t\\t', u'name': u'okndoncwe', u'image': u'0.jpg', u'tags': u'wefwefwef'}, {u'price': u'asfgserge', u'tags': u'eargewger', u'name': u'sgsergserg', u'image': u'0.jpg', u'desc': u'\\tgergergergerg\\t\\t\\r\\n\\t\\t'}]\n"
     ]
    }
   ],
   "source": [
    "a = get_rolls()\n",
    "print(a)"
   ]
  },
  {
   "cell_type": "code",
   "execution_count": 5,
   "metadata": {
    "collapsed": true
   },
   "outputs": [],
   "source": [
    "@app.route(\"/adminka\")\n",
    "def adminka():\n",
    "    return render_template('adminka.html')"
   ]
  },
  {
   "cell_type": "code",
   "execution_count": 6,
   "metadata": {
    "collapsed": true
   },
   "outputs": [],
   "source": [
    "@app.route(\"/add_tovar\")\n",
    "def add_tovar():\n",
    "    session.modified =True\n",
    "    name = request.args['name']\n",
    "    if not 'korsina' in session:\n",
    "        session['korsina'] = {}\n",
    "    if not name in session['korsina'].keys():\n",
    "        session['korsina'][name] = 0\n",
    "    session['korsina'][name] += 1\n",
    "    return redirect(\"/\")"
   ]
  },
  {
   "cell_type": "code",
   "execution_count": 7,
   "metadata": {
    "collapsed": false
   },
   "outputs": [],
   "source": [
    "@app.route(\"/\")\n",
    "def index():\n",
    "    return render_template(\"index.html\", url_for=url_for, li=get_rolls())"
   ]
  },
  {
   "cell_type": "code",
   "execution_count": 8,
   "metadata": {
    "collapsed": false
   },
   "outputs": [],
   "source": [
    "@app.route(\"/korsina\")\n",
    "def korsina():\n",
    "    li = session.get('korsina', {})\n",
    "    li = [get_roll(n) for n in li ]\n",
    "    \n",
    "    return render_template(\"index1.html\", rolls = li)\n"
   ]
  },
  {
   "cell_type": "code",
   "execution_count": 9,
   "metadata": {
    "collapsed": false
   },
   "outputs": [],
   "source": [
    "@app.route(\"/zakas\")\n",
    "def zakas():\n",
    "    return render_template(\"index2.html\")\n"
   ]
  },
  {
   "cell_type": "code",
   "execution_count": 10,
   "metadata": {
    "collapsed": true
   },
   "outputs": [],
   "source": [
    "@app.route(\"/add_roll\")\n",
    "def add_roll():\n",
    "    ra = request.args\n",
    "    dic = {\"name\":ra[\"name\"], \"price\":ra[\"price\"], \"desc\":ra[\"desc\"], \"image\":\"0.jpg\", \"tags\":ra[\"tags\"]}\n",
    "    rolls = get_rolls()\n",
    "    rolls.append(dic)\n",
    "    renew_rolls(rolls)\n",
    "    return redirect(\"/\")"
   ]
  },
  {
   "cell_type": "code",
   "execution_count": 11,
   "metadata": {
    "collapsed": true
   },
   "outputs": [],
   "source": [
    "@app.route(\"/del_roll\")\n",
    "def del_roll():\n",
    "    old = get_rolls()\n",
    "    new = []\n",
    "    for roll in old:\n",
    "        if not roll[\"name\"].lower().strip() == request.args['name'].lower().strip():\n",
    "            new.append(roll)\n",
    "    renew_rolls(new)\n",
    "    return redirect(\"/\")"
   ]
  },
  {
   "cell_type": "code",
   "execution_count": 12,
   "metadata": {
    "collapsed": false
   },
   "outputs": [
    {
     "data": {
      "text/plain": [
       "[{u'desc': u'Hyevo',\n",
       "  u'image': u'image2.png',\n",
       "  u'name': u'Philad',\n",
       "  u'price': 300,\n",
       "  u'tags': [u'holodnie']},\n",
       " {u'desc': u'klass',\n",
       "  u'image': u'image14.png',\n",
       "  u'name': u'Califor',\n",
       "  u'price': 400,\n",
       "  u'tags': [u'holodnie']},\n",
       " {u'desc': u' \\u041e\\u043f\\u0438\\u0441\\u0430\\u043d\\u0438\\u0435qwef13f13fg\\r\\n\\t\\t\\t\\r\\n\\t\\t',\n",
       "  u'image': u'0.jpg',\n",
       "  u'name': u'oajsndoqnw',\n",
       "  u'price': u'qwefq3rfqwf'},\n",
       " {u'desc': u'\\twefwefwefwefw\\t\\t\\r\\n\\t\\t',\n",
       "  u'image': u'0.jpg',\n",
       "  u'name': u'okndoncwe',\n",
       "  u'price': u'werwefwef',\n",
       "  u'tags': u'wefwefwef'},\n",
       " {u'desc': u'\\tgergergergerg\\t\\t\\r\\n\\t\\t',\n",
       "  u'image': u'0.jpg',\n",
       "  u'name': u'sgsergserg',\n",
       "  u'price': u'asfgserge',\n",
       "  u'tags': u'eargewger'}]"
      ]
     },
     "execution_count": 12,
     "metadata": {},
     "output_type": "execute_result"
    }
   ],
   "source": [
    "get_rolls()"
   ]
  },
  {
   "cell_type": "code",
   "execution_count": 13,
   "metadata": {
    "collapsed": true
   },
   "outputs": [],
   "source": [
    "#from json import dumps\n",
    "#dic={\"rolls\":rolls}"
   ]
  },
  {
   "cell_type": "code",
   "execution_count": 14,
   "metadata": {
    "collapsed": false
   },
   "outputs": [],
   "source": [
    "#with open(\"basa.txt\", \"w\") as f:\n",
    "#    f.write(dumps(dic))\n"
   ]
  },
  {
   "cell_type": "code",
   "execution_count": 15,
   "metadata": {
    "collapsed": true
   },
   "outputs": [],
   "source": [
    "def get_roll(name):\n",
    "    vse = get_rolls()\n",
    "    for roll in vse:\n",
    "        if name == roll['name']:\n",
    "            return roll"
   ]
  },
  {
   "cell_type": "code",
   "execution_count": null,
   "metadata": {
    "collapsed": false
   },
   "outputs": [
    {
     "name": "stderr",
     "output_type": "stream",
     "text": [
      " * Running on http://127.0.0.1:1246/ (Press CTRL+C to quit)\n",
      "127.0.0.1 - - [02/Nov/2017 19:45:48] \"GET / HTTP/1.1\" 200 -\n",
      "127.0.0.1 - - [02/Nov/2017 19:45:49] \"GET /static/css/style.css HTTP/1.1\" 200 -\n",
      "127.0.0.1 - - [02/Nov/2017 19:45:49] \"GET /static/font-awesome-4.7.0/css/font-awesome.min.css HTTP/1.1\" 200 -\n",
      "127.0.0.1 - - [02/Nov/2017 19:45:49] \"GET /images/image%207.png HTTP/1.1\" 404 -\n",
      "127.0.0.1 - - [02/Nov/2017 19:45:49] \"GET /static/images/image2.png HTTP/1.1\" 404 -\n",
      "127.0.0.1 - - [02/Nov/2017 19:45:49] \"GET /static/images/image14.png HTTP/1.1\" 404 -\n",
      "127.0.0.1 - - [02/Nov/2017 19:45:49] \"GET /static/images/0.jpg HTTP/1.1\" 200 -\n",
      "127.0.0.1 - - [02/Nov/2017 19:45:50] \"GET /static/font-awesome-4.7.0/fonts/fontawesome-webfont.woff2?v=4.7.0 HTTP/1.1\" 200 -\n",
      "127.0.0.1 - - [02/Nov/2017 19:46:42] \"GET /korsina HTTP/1.1\" 200 -\n",
      "127.0.0.1 - - [02/Nov/2017 19:46:43] \"GET /css/style1.css HTTP/1.1\" 404 -\n",
      "127.0.0.1 - - [02/Nov/2017 19:46:43] \"GET /font-awesome-4.7.0/css/font-awesome.min.css HTTP/1.1\" 404 -\n",
      "127.0.0.1 - - [02/Nov/2017 19:46:43] \"GET /images/image%2014.png HTTP/1.1\" 404 -\n",
      "127.0.0.1 - - [02/Nov/2017 19:46:43] \"GET /images/image%2020.png HTTP/1.1\" 404 -\n",
      "127.0.0.1 - - [02/Nov/2017 19:47:01] \"GET /adminka HTTP/1.1\" 200 -\n",
      "127.0.0.1 - - [02/Nov/2017 19:47:31] \"GET /add_roll?name=roll+s+hyem&price=228&tags=penis&desc=%09%09sosi%09%0D%0A%09%09 HTTP/1.1\" 302 -\n",
      "127.0.0.1 - - [02/Nov/2017 19:47:31] \"GET / HTTP/1.1\" 200 -\n",
      "127.0.0.1 - - [02/Nov/2017 19:47:31] \"GET /images/image%207.png HTTP/1.1\" 404 -\n",
      "127.0.0.1 - - [02/Nov/2017 19:47:31] \"GET /static/images/image2.png HTTP/1.1\" 404 -\n",
      "127.0.0.1 - - [02/Nov/2017 19:47:31] \"GET /static/images/image14.png HTTP/1.1\" 404 -\n",
      "127.0.0.1 - - [02/Nov/2017 19:47:45] \"GET /adminka HTTP/1.1\" 200 -\n",
      "127.0.0.1 - - [02/Nov/2017 19:48:04] \"GET /del_roll?name=Califor HTTP/1.1\" 302 -\n",
      "127.0.0.1 - - [02/Nov/2017 19:48:04] \"GET / HTTP/1.1\" 200 -\n",
      "127.0.0.1 - - [02/Nov/2017 19:48:04] \"GET /images/image%207.png HTTP/1.1\" 404 -\n",
      "127.0.0.1 - - [02/Nov/2017 19:48:04] \"GET /static/images/image2.png HTTP/1.1\" 404 -\n",
      "127.0.0.1 - - [02/Nov/2017 19:48:25] \"GET /adminka HTTP/1.1\" 200 -\n",
      "127.0.0.1 - - [02/Nov/2017 19:48:45] \"GET /korsina HTTP/1.1\" 200 -\n",
      "127.0.0.1 - - [02/Nov/2017 19:48:45] \"GET /css/style1.css HTTP/1.1\" 404 -\n",
      "127.0.0.1 - - [02/Nov/2017 19:48:45] \"GET /font-awesome-4.7.0/css/font-awesome.min.css HTTP/1.1\" 404 -\n",
      "127.0.0.1 - - [02/Nov/2017 19:48:45] \"GET /images/image%2014.png HTTP/1.1\" 404 -\n",
      "127.0.0.1 - - [02/Nov/2017 19:48:45] \"GET /images/image%2020.png HTTP/1.1\" 404 -\n",
      "127.0.0.1 - - [02/Nov/2017 19:48:47] \"GET /zakas HTTP/1.1\" 200 -\n",
      "127.0.0.1 - - [02/Nov/2017 19:48:47] \"GET /css/style2.css HTTP/1.1\" 404 -\n",
      "127.0.0.1 - - [02/Nov/2017 19:48:47] \"GET /font-awesome-4.7.0/css/font-awesome.min.css HTTP/1.1\" 404 -\n"
     ]
    }
   ],
   "source": [
    "app.run(port=1246)"
   ]
  },
  {
   "cell_type": "code",
   "execution_count": null,
   "metadata": {
    "collapsed": true
   },
   "outputs": [],
   "source": []
  },
  {
   "cell_type": "code",
   "execution_count": null,
   "metadata": {
    "collapsed": true
   },
   "outputs": [],
   "source": []
  },
  {
   "cell_type": "code",
   "execution_count": null,
   "metadata": {
    "collapsed": true
   },
   "outputs": [],
   "source": []
  },
  {
   "cell_type": "code",
   "execution_count": null,
   "metadata": {
    "collapsed": true
   },
   "outputs": [],
   "source": []
  },
  {
   "cell_type": "code",
   "execution_count": null,
   "metadata": {
    "collapsed": true
   },
   "outputs": [],
   "source": []
  }
 ],
 "metadata": {
  "kernelspec": {
   "display_name": "Python 2",
   "language": "python",
   "name": "python2"
  },
  "language_info": {
   "codemirror_mode": {
    "name": "ipython",
    "version": 2
   },
   "file_extension": ".py",
   "mimetype": "text/x-python",
   "name": "python",
   "nbconvert_exporter": "python",
   "pygments_lexer": "ipython2",
   "version": "2.7.12"
  }
 },
 "nbformat": 4,
 "nbformat_minor": 2
}
